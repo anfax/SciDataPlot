{
 "cells": [
  {
   "cell_type": "code",
   "execution_count": null,
   "metadata": {},
   "outputs": [],
   "source": [
    "dir='D:\\\\dataofpro\\\\OutPut\\\\'"
   ]
  },
  {
   "cell_type": "code",
   "execution_count": null,
   "metadata": {},
   "outputs": [],
   "source": [
    "print('Working directory',dir)\n",
    "import numpy as np\n",
    "import matplotlib.pyplot as plt\n",
    "import matplotlib as mpl\n",
    "from matplotlib.ticker import MultipleLocator\n",
    "import os\n",
    "from matplotlib import ticker\n",
    "plt.rcParams['ytick.right']  =plt.rcParams['xtick.top'] =True\n",
    "xminorLocator=MultipleLocator(2)\n",
    "def cm2inch(value):\n",
    "    return value/2.54\n",
    "plt.rcParams['figure.figsize'] = (cm2inch(8), cm2inch(6.5))\n",
    "#plt.rcParams['figure.figsize'] =(4,3)#(3.5,2.5)\n",
    "plt.rcParams['lines.linewidth'] = 1\n",
    "plt.rcParams['xtick.direction'] = 'in'\n",
    "plt.rcParams['ytick.direction'] = 'in'\n",
    "plt.rcParams['xtick.labelsize'] = 6\n",
    "plt.rcParams['ytick.labelsize'] = 6\n",
    "plt.rcParams['legend.fontsize'] =6\n",
    "from matplotlib import rcParams\n",
    "config = {\n",
    "    \"text.usetex\": False,\n",
    "    \"font.family\":'serif',\n",
    "    # \"font.family\":'stix',\n",
    "    \"font.size\": 8,\n",
    "    \"mathtext.fontset\":'stix',\n",
    "    # \"font.serif\": ['SimSun'],\n",
    "}\n",
    "rcParams.update(config)\n",
    "from mpl_toolkits.mplot3d import Axes3D\n",
    "import numpy \n",
    "def setlabel(ax, label, loc=2, borderpad=0.6, **kwargs):\n",
    "    legend = ax.get_legend()\n",
    "    if legend:\n",
    "        ax.add_artist(legend)\n",
    "    line, = ax.plot(numpy.NaN,numpy.NaN,color='none',label=label,fillstyle='full')\n",
    "    label_legend = ax.legend(handles=[line],\n",
    "                             loc=[-0.2,1.0005],\n",
    "                             handlelength=0.0,\n",
    "                             handleheight=0.0,\n",
    "                             handletextpad=0.0,\n",
    "                             borderaxespad=0.0,\n",
    "                             borderpad=borderpad,\n",
    "                             frameon=False,\n",
    "                             shadow=True,\n",
    "                             facecolor='gray',\n",
    "                             prop={'weight':'bold','size':8},\n",
    "                             **kwargs)\n",
    "    label_legend.remove()\n",
    "    ax.add_artist(label_legend)\n",
    "    line.remove()\n",
    "def setlabelm(ax, label, loc, borderpad=0.6, **kwargs):\n",
    "    legend = ax.get_legend()\n",
    "    if legend:\n",
    "        ax.add_artist(legend)\n",
    "    line, = ax.plot(numpy.NaN,numpy.NaN,color='none',label=label)\n",
    "    label_legend = ax.legend(handles=[line],\n",
    "                             loc=loc,\n",
    "                             handlelength=0,\n",
    "                             handleheight=0,\n",
    "                             handletextpad=0,\n",
    "                             borderaxespad=0,\n",
    "                             borderpad=borderpad,\n",
    "                             frameon=False,\n",
    "                             shadow=True,\n",
    "                             facecolor='gray',\n",
    "                             prop={'weight':'bold','size':8},\n",
    "                             **kwargs)\n",
    "    label_legend.remove()\n",
    "    ax.add_artist(label_legend)\n",
    "    line.remove()\n",
    "def sciforyax(ax):\n",
    "    formatter=ticker.ScalarFormatter(useMathText=True)\n",
    "    formatter.set_scientific(True)\n",
    "    formatter.set_powerlimits((0,0))\n",
    "    ax.yaxis.set_major_formatter(formatter)\n",
    "def sciforxax(ax):\n",
    "    formatter=ticker.ScalarFormatter(useMathText=True)\n",
    "    formatter.set_scientific(True)\n",
    "    formatter.set_powerlimits((0,0))\n",
    "    ax.xaxis.set_major_formatter(formatter)\n",
    "cbformat=ticker.ScalarFormatter(useMathText=True,useOffset=True)\n",
    "cbformat.set_powerlimits((-0,0))\n",
    "cbformat.format=\"%.2f\"\n",
    "import matplotlib.ticker\n",
    "class OOMFormatter(matplotlib.ticker.ScalarFormatter):\n",
    "    def __init__(self, order=0, fformat=\"%.3f\", offset=True, mathText=True):\n",
    "        self.oom = order\n",
    "        self.fformat = fformat\n",
    "        matplotlib.ticker.ScalarFormatter.__init__(self,useOffset=offset,useMathText=mathText)\n",
    "    def _set_order_of_magnitude(self):\n",
    "        self.orderOfMagnitude = self.oom\n",
    "    def _set_format(self, vmin=None, vmax=None):\n",
    "        self.format = self.fformat\n",
    "        if self._useMathText:\n",
    "             self.format = r'$\\mathdefault{%s}$' % self.format\n",
    "def fee(d):\n",
    "    import os\n",
    "    if (os.path.exists(d)):\n",
    "        # print(\"The file exists. \")\n",
    "        sz= os.path.getsize(d)\n",
    "        if not sz:\n",
    "            print(d,\" is empty!\")\n",
    "            return False\n",
    "        else: \n",
    "            print(\"Size of \",d,\" is \", sz/1024,'KB' )\n",
    "            return True\n",
    "    else:\n",
    "        print(d, \" is not exists! \")\n",
    "        return  False   \n",
    "import  imageio\n",
    "import os\n",
    "def compose_gif(image_list,gif_name,myduration):\n",
    "    frames=[]\n",
    "    for image_name in image_list:\n",
    "        frames.append(imageio.imread(image_name))\n",
    "    imageio.mimsave(gif_name,frames,'GIF',duration=myduration)\n",
    "    return\n",
    "levels=100\n",
    "figureDPI=1200\n",
    "figureType=\"jpeg\"\n",
    "timeUnit=\"fs\""
   ]
  },
  {
   "cell_type": "code",
   "execution_count": null,
   "metadata": {},
   "outputs": [],
   "source": [
    "data=np.loadtxt(dir+'Efield.dat')\n",
    "t=data[:,0]\n",
    "e=data[:,1]\n",
    "plt.plot(t,e)"
   ]
  },
  {
   "cell_type": "code",
   "execution_count": null,
   "metadata": {},
   "outputs": [],
   "source": [
    "data=np.loadtxt(dir+'VGR_X.dat')\n",
    "x=data[:,0]\n",
    "y=data[:,1]\n",
    "plt.plot(x,y)\n",
    "data=np.loadtxt(dir+'VE_X.dat')\n",
    "x=data[:,0]\n",
    "y=data[:,1]\n",
    "plt.plot(x,y)"
   ]
  },
  {
   "cell_type": "code",
   "execution_count": null,
   "metadata": {},
   "outputs": [],
   "source": [
    "data=np.loadtxt(dir+'VE_X.dat')\n",
    "x=data[:,0]\n",
    "y=data[:,1]\n",
    "plt.plot(x,y)"
   ]
  },
  {
   "cell_type": "code",
   "execution_count": null,
   "metadata": {},
   "outputs": [],
   "source": [
    "data=np.loadtxt(dir+'VE_R_CM_1.dat')\n",
    "x=data[:,0]\n",
    "y=data[:,1]\n",
    "plt.plot(x,y)\n",
    "plt.xlim(0,100)"
   ]
  },
  {
   "cell_type": "code",
   "execution_count": null,
   "metadata": {},
   "outputs": [],
   "source": [
    "data=np.loadtxt(dir+'test.dat')\n",
    "x=data[:,0]\n",
    "y=data[:,1]\n",
    "plt.plot(x,y)"
   ]
  },
  {
   "cell_type": "code",
   "execution_count": null,
   "metadata": {},
   "outputs": [],
   "source": [
    "data=np.loadtxt(dir+'T_TEMP.dat')\n",
    "x=data[:]\n",
    "plt.bar(x,0.01)"
   ]
  },
  {
   "cell_type": "code",
   "execution_count": null,
   "metadata": {},
   "outputs": [],
   "source": [
    "data=np.loadtxt(dir+'pop_tot.dat')\n",
    "x=data[:,0]\n",
    "y=data[:,1]\n",
    "z=data[:,2]\n",
    "plt.plot(y[0:240],z[0:240])\n",
    "\n"
   ]
  },
  {
   "cell_type": "code",
   "execution_count": null,
   "metadata": {},
   "outputs": [],
   "source": [
    "plt.plot(y[241:482],z[241:482])"
   ]
  },
  {
   "cell_type": "code",
   "execution_count": null,
   "metadata": {},
   "outputs": [],
   "source": [
    "plt.plot(y[241*2:241*3],z[241*2:241*3])\n"
   ]
  },
  {
   "cell_type": "code",
   "execution_count": null,
   "metadata": {},
   "outputs": [],
   "source": [
    "plt.plot(y[241*3:241*4],z[241*3:241*4])"
   ]
  },
  {
   "cell_type": "code",
   "execution_count": null,
   "metadata": {},
   "outputs": [],
   "source": [
    "data=np.loadtxt(dir+'Laser_shaped.dat')\n",
    "x=data[:,0]\n",
    "y=data[:,1]\n",
    "plt.plot(x,y)"
   ]
  },
  {
   "cell_type": "code",
   "execution_count": null,
   "metadata": {},
   "outputs": [],
   "source": [
    "data=np.loadtxt(dir+'J_X.dat')\n",
    "x=data[:,0]\n",
    "y=data[:,1]\n",
    "plt.plot(x,y)"
   ]
  },
  {
   "cell_type": "code",
   "execution_count": null,
   "metadata": {},
   "outputs": [],
   "source": [
    "data=np.loadtxt(dir+'EVNELOPE.dat')\n",
    "x=data[:,0]\n",
    "y=data[:,1]\n",
    "plt.plot(x,y)\n",
    "plt.xlim(0,100)"
   ]
  },
  {
   "cell_type": "code",
   "execution_count": null,
   "metadata": {},
   "outputs": [],
   "source": [
    "data=np.loadtxt(dir+'Condon_fac.dat')\n",
    "x=data[:,0]\n",
    "y=data[:,1]\n",
    "z=data[:,2]\n",
    "plt.plot(x,y)\n",
    "# "
   ]
  },
  {
   "cell_type": "code",
   "execution_count": null,
   "metadata": {},
   "outputs": [],
   "source": [
    "plt.plot(x,z)"
   ]
  },
  {
   "cell_type": "code",
   "execution_count": null,
   "metadata": {},
   "outputs": [],
   "source": [
    "fildir=dir+'PP\\\\'\n",
    "datlist=os.listdir(fildir)\n",
    "n=len(datlist)\n",
    "print(datlist)\n",
    "lis=list()\n",
    "if n:\n",
    "    for i in range(n):\n",
    "        s=fildir+str(datlist[i])\n",
    "        print(s)\n",
    "        if s[-4:]==\".dat\":\n",
    "            lis.append(s)\n",
    "    n=len(lis)\n",
    "    for i in range(n):\n",
    "        dat=np.loadtxt(lis[i])\n",
    "        x=dat[:,0]\n",
    "        y=dat[:,1]\n",
    "        plt.plot(x,y)\n",
    "        plt.show()\n",
    "        plt.close()\n",
    "        \n",
    "\n",
    "\n"
   ]
  },
  {
   "cell_type": "code",
   "execution_count": null,
   "metadata": {},
   "outputs": [],
   "source": [
    "fildir=dir+'Tran_WP\\\\'\n",
    "datlist=os.listdir(fildir)\n",
    "n=len(datlist)\n",
    "print(datlist)\n",
    "lis=list()\n",
    "if n:\n",
    "    for i in range(n):\n",
    "        s=fildir+str(datlist[i])\n",
    "        print(s)\n",
    "        if s[-4:]==\".DAT\":\n",
    "            lis.append(s)\n",
    "    n=len(lis)\n",
    "    print(n)\n",
    "    for i in range(n):\n",
    "        dat=np.loadtxt(lis[i])\n",
    "        x=dat[:,0]\n",
    "        y=dat[:,1]\n",
    "        z=dat[:,3]\n",
    "        plt.plot(x,z)\n",
    "        plt.show()\n",
    "        # plt.close()"
   ]
  },
  {
   "cell_type": "code",
   "execution_count": null,
   "metadata": {},
   "outputs": [],
   "source": [
    "fildir=dir+'eig_fun0\\\\'\n",
    "datlist=os.listdir(fildir)\n",
    "n=len(datlist)\n",
    "print(datlist)\n",
    "lis=list()\n",
    "if n:\n",
    "    for i in range(n):\n",
    "        s=fildir+str(datlist[i])\n",
    "        print(s)\n",
    "        if s[-4:]==\".dat\":\n",
    "            lis.append(s)\n",
    "    n=len(lis)\n",
    "    for i in range(n):\n",
    "        dat=np.loadtxt(lis[i])\n",
    "        x=dat[:,0]\n",
    "        y=dat[:,1]\n",
    "        plt.plot(x,y)\n",
    "        plt.show()\n",
    "        plt.close()\n",
    "        "
   ]
  },
  {
   "cell_type": "code",
   "execution_count": null,
   "metadata": {},
   "outputs": [],
   "source": [
    "fildir=dir+'eig_fun1\\\\'\n",
    "datlist=os.listdir(fildir)\n",
    "n=len(datlist)\n",
    "print(datlist)\n",
    "lis=list()\n",
    "if n:\n",
    "    for i in range(n):\n",
    "        s=fildir+str(datlist[i])\n",
    "        print(s)\n",
    "        if s[-4:]==\".dat\":\n",
    "            lis.append(s)\n",
    "    n=len(lis)\n",
    "    for i in range(n):\n",
    "        dat=np.loadtxt(lis[i])\n",
    "        x=dat[:,0]\n",
    "        y=dat[:,1]\n",
    "        plt.plot(x,y)\n",
    "        plt.show()\n",
    "        plt.close()\n",
    "        "
   ]
  },
  {
   "cell_type": "code",
   "execution_count": null,
   "metadata": {},
   "outputs": [],
   "source": [
    "fildir=dir+'eig_fun\\\\'\n",
    "datlist=os.listdir(fildir)\n",
    "n=len(datlist)\n",
    "print(datlist)\n",
    "lis=list()\n",
    "if n:\n",
    "    for i in range(n):\n",
    "        s=fildir+str(datlist[i])\n",
    "        print(s)\n",
    "        if s[-4:]==\".dat\":\n",
    "            lis.append(s)\n",
    "    n=len(lis)\n",
    "    for i in range(n):\n",
    "        dat=np.loadtxt(lis[i])\n",
    "        x=dat[:,0]\n",
    "        y=dat[:,1]\n",
    "        plt.plot(x,y)\n",
    "        plt.show()\n",
    "        plt.close()\n",
    "        "
   ]
  }
 ],
 "metadata": {
  "kernelspec": {
   "display_name": "Python 3",
   "language": "python",
   "name": "python3"
  },
  "language_info": {
   "codemirror_mode": {
    "name": "ipython",
    "version": 3
   },
   "file_extension": ".py",
   "mimetype": "text/x-python",
   "name": "python",
   "nbconvert_exporter": "python",
   "pygments_lexer": "ipython3",
   "version": "3.10.8 (tags/v3.10.8:aaaf517, Oct 11 2022, 16:50:30) [MSC v.1933 64 bit (AMD64)]"
  },
  "orig_nbformat": 4,
  "vscode": {
   "interpreter": {
    "hash": "8687b81b5d14307c58608bd19c9f92d9c321847991efa868faf2d3a3bcd23c46"
   }
  }
 },
 "nbformat": 4,
 "nbformat_minor": 2
}
