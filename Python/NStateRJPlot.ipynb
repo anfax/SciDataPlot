{
 "cells": [
  {
   "cell_type": "code",
   "execution_count": null,
   "metadata": {},
   "outputs": [],
   "source": [
    "print('Working directory',dir)\n",
    "import numpy as np\n",
    "import matplotlib.pyplot as plt\n",
    "import matplotlib as mpl\n",
    "from matplotlib.ticker import MultipleLocator\n",
    "from matplotlib.ticker import MaxNLocator\n",
    "import os\n",
    "from matplotlib import ticker\n",
    "plt.rcParams['ytick.right']  =plt.rcParams['xtick.top'] =True\n",
    "xminorLocator=MultipleLocator(2)\n",
    "\n",
    "def cm2inch(value):\n",
    "    return value/2.54\n",
    "\n",
    "plt.rcParams['figure.figsize'] = (cm2inch(8), cm2inch(6.5))\n",
    "#plt.rcParams['figure.figsize'] =(4,3)#(3.5,2.5)\n",
    "plt.rcParams['lines.linewidth'] = 1\n",
    "plt.rcParams['xtick.direction'] = 'in'\n",
    "plt.rcParams['ytick.direction'] = 'in'\n",
    "plt.rcParams['xtick.labelsize'] = 6\n",
    "plt.rcParams['ytick.labelsize'] = 6\n",
    "plt.rcParams['legend.fontsize'] = 6\n",
    "\n",
    "from matplotlib import rcParams\n",
    "config = {\n",
    "    \"text.usetex\": False,\n",
    "    \"font.family\":'serif',\n",
    "    # \"font.family\":'stix',\n",
    "    \"font.size\": 8,\n",
    "    \"mathtext.fontset\":'stix',\n",
    "    # \"font.serif\": ['SimSun'],\n",
    "}\n",
    "rcParams.update(config)\n",
    "from mpl_toolkits.mplot3d import Axes3D\n",
    "import numpy \n",
    "def setlabel(ax, label, loc=2, borderpad=0.6, **kwargs):\n",
    "    legend = ax.get_legend()\n",
    "    if legend:\n",
    "        ax.add_artist(legend)\n",
    "    line, = ax.plot(numpy.NaN,numpy.NaN,color='none',label=label,fillstyle='full')\n",
    "    label_legend = ax.legend(handles=[line],\n",
    "                             loc=[-0.2,1.0005],\n",
    "                             handlelength=0.0,\n",
    "                             handleheight=0.0,\n",
    "                             handletextpad=0.0,\n",
    "                             borderaxespad=0.0,\n",
    "                             borderpad=borderpad,\n",
    "                             frameon=False,\n",
    "                             shadow=True,\n",
    "                             facecolor='gray',\n",
    "                             prop={'weight':'bold','size':8},\n",
    "                             **kwargs)\n",
    "    label_legend.remove()\n",
    "    ax.add_artist(label_legend)\n",
    "    line.remove()\n",
    "def setlabelm(ax, label, loc, borderpad=0.6, **kwargs):\n",
    "    legend = ax.get_legend()\n",
    "    if legend:\n",
    "        ax.add_artist(legend)\n",
    "    line, = ax.plot(numpy.NaN,numpy.NaN,color='none',label=label)\n",
    "    label_legend = ax.legend(handles=[line],\n",
    "                             loc=loc,\n",
    "                             handlelength=0,\n",
    "                             handleheight=0,\n",
    "                             handletextpad=0,\n",
    "                             borderaxespad=0,\n",
    "                             borderpad=borderpad,\n",
    "                             frameon=False,\n",
    "                             shadow=True,\n",
    "                             facecolor='gray',\n",
    "                             prop={'weight':'bold','size':8},\n",
    "                             **kwargs)\n",
    "    label_legend.remove()\n",
    "    ax.add_artist(label_legend)\n",
    "    line.remove()\n",
    "def sciforyax(ax):\n",
    "    formatter=ticker.ScalarFormatter(useMathText=True)\n",
    "    formatter.set_scientific(True)\n",
    "    formatter.set_powerlimits((0,0))\n",
    "    ax.yaxis.set_major_formatter(formatter)\n",
    "def sciforxax(ax):\n",
    "    formatter=ticker.ScalarFormatter(useMathText=True)\n",
    "    formatter.set_scientific(True)\n",
    "    formatter.set_powerlimits((0,0))\n",
    "    ax.xaxis.set_major_formatter(formatter)\n",
    "cbformat=ticker.ScalarFormatter(useMathText=True,useOffset=True)\n",
    "cbformat.set_powerlimits((-0,0))\n",
    "cbformat.format=\"%.2f\"\n",
    "\n",
    "import matplotlib.ticker\n",
    "class OOMFormatter(matplotlib.ticker.ScalarFormatter):\n",
    "    def __init__(self, order=0, fformat=\"%.3f\", offset=True, mathText=True):\n",
    "        self.oom = order\n",
    "        self.fformat = fformat\n",
    "        matplotlib.ticker.ScalarFormatter.__init__(self,useOffset=offset,useMathText=mathText)\n",
    "    def _set_order_of_magnitude(self):\n",
    "        self.orderOfMagnitude = self.oom\n",
    "    def _set_format(self, vmin=None, vmax=None):\n",
    "        self.format = self.fformat\n",
    "        if self._useMathText:\n",
    "             self.format = r'$\\mathdefault{%s}$' % self.format\n",
    "def fee(d):\n",
    "    import os\n",
    "    if (os.path.exists(d)):\n",
    "        # print(\"The file exists. \")\n",
    "        sz= os.path.getsize(d)\n",
    "        if not sz:\n",
    "            print(d,\" is empty!\")\n",
    "            return False\n",
    "        else: \n",
    "            print(\"Size of \",d,\" is \", sz/1024,'KB' )\n",
    "            return True\n",
    "    else:\n",
    "        print(d, \" is not exists! \")\n",
    "        return  False \n",
    "        \n",
    "import  imageio\n",
    "import os\n",
    "def compose_gif(image_list,gif_name,myduration):\n",
    "    frames=[]\n",
    "    for image_name in image_list:\n",
    "        frames.append(imageio.imread(image_name))\n",
    "    imageio.mimsave(gif_name,frames,'GIF',duration=myduration)\n",
    "    return\n",
    "\n",
    "\n",
    "levels=100\n",
    "figureDPI=1200\n",
    "figureType=\".jpeg\"\n",
    "timeUnit=\"fs\"\n",
    "def xyplot(int_dir,label_x,label_y,out_dir,*cmd):\n",
    "    if os.path.exists(int_dir):\n",
    "        data=np.loadtxt(int_dir)\n",
    "        # plt.xlim(TimeTurn,TimeEnd)\n",
    "        ax=plt.plot(data[:,0],data[:,1],'k-')#,data[:,0],data[:,2],'r-',data[:,0],1-data[:,1]-data[:,2],'b-')\n",
    "        # plt.legend([\"Gro\",\"Exc\",\"Ion\"],loc=(0.7,0.70))\n",
    "        plt.xlabel(label_x)\n",
    "        plt.ylabel(label_y)\n",
    "        if cmd:\n",
    "            for i in cmd:\n",
    "               eval(cmd[0])\n",
    "        plt.savefig(out_dir+int_dir[-7:-4]+figureType,dpi=figureDPI,bbox_inches=\"tight\")\n",
    "    else:\n",
    "        print(\"No dataset found.\")\n",
    "def xyzplot(int_dir,x_label,y_label,out_dir):\n",
    "    if os.path.exists(int_dir):\n",
    "        dat=np.loadtxt(int_dir)\n",
    "        plt.tricontourf(dat[:,0],dat[:,1],dat[:,2],levels,cmap='jet')\n",
    "        plt.colorbar()\n",
    "        plt.xlabel(x_label)\n",
    "        plt.ylabel(y_label)\n",
    "        plt.savefig(out_dir+int_dir[-9:-4]+figureType,dpi=figureDPI,bbox_inches=\"tight\")\n",
    "        plt.show()\n",
    "    else:\n",
    "        print(\"The dataset does not exist. \")"
   ]
  },
  {
   "cell_type": "code",
   "execution_count": null,
   "metadata": {},
   "outputs": [],
   "source": [
    "dir=\"D:\\\\dataofpro\\\\output\\\\\""
   ]
  },
  {
   "cell_type": "code",
   "execution_count": null,
   "metadata": {},
   "outputs": [],
   "source": [
    "fil=dir+\"efield_1.dat\"\n",
    "if fee(fil):\n",
    "    xyplot(fil,'Time (fs) ','Intensity (v/m) ',dir)\n"
   ]
  },
  {
   "cell_type": "code",
   "execution_count": null,
   "metadata": {},
   "outputs": [],
   "source": [
    "fil=dir+\"efield_2.dat\"\n",
    "if fee(fil):\n",
    "    xyplot(fil,'Time (fs) ','Intensity (v/m) ',dir)"
   ]
  },
  {
   "cell_type": "code",
   "execution_count": null,
   "metadata": {},
   "outputs": [],
   "source": [
    "fil=dir+\"efield_rwa.dat\"\n",
    "if fee(fil):\n",
    "    xyplot(fil,'Time (fs) ','Intensity (v/m) ',dir)"
   ]
  },
  {
   "cell_type": "code",
   "execution_count": null,
   "metadata": {},
   "outputs": [],
   "source": [
    "fil=dir+\"efield.dat\"\n",
    "if fee(fil):\n",
    "    xyplot(fil,'Time (fs) ','Intensity (v/m) ',dir)"
   ]
  },
  {
   "cell_type": "code",
   "execution_count": null,
   "metadata": {},
   "outputs": [],
   "source": [
    "fil=dir+'potential1.dat'\n",
    "if fee(fil):\n",
    "    xyplot(fil,\"$R$ (a.u.)\",\"Energy (a.u.)\",dir)"
   ]
  },
  {
   "cell_type": "code",
   "execution_count": null,
   "metadata": {},
   "outputs": [],
   "source": [
    "fil=dir+'potential2.dat'\n",
    "if fee(fil):\n",
    "    xyplot(fil,\"$R$ (a.u.)\",\"Energy (a.u.)\",dir)"
   ]
  },
  {
   "cell_type": "code",
   "execution_count": null,
   "metadata": {},
   "outputs": [],
   "source": [
    "fil1=dir+'potential1.dat'\n",
    "fil2=dir+'potential2.dat'\n",
    "if fee(fil1)&fee(fil2):\n",
    "    dat1=np.loadtxt(fil1)\n",
    "    print(min(dat1[:,1]))\n",
    "    dat2=np.loadtxt(fil2)\n",
    "    print(min(dat2[:,1]))\n",
    "    "
   ]
  },
  {
   "cell_type": "code",
   "execution_count": null,
   "metadata": {},
   "outputs": [],
   "source": [
    "fil=dir+'per_dipole1.dat'\n",
    "if fee(fil):\n",
    "    xyplot(fil,\"$R$ (a.u.)\",\"Energy (D)\",dir)"
   ]
  },
  {
   "cell_type": "code",
   "execution_count": null,
   "metadata": {},
   "outputs": [],
   "source": [
    "fil=dir+\"qr1.dat\"\n",
    "if fee(fil):\n",
    "    xyplot(fil,'$R$','Intensity (a.u.) ',dir)"
   ]
  },
  {
   "cell_type": "code",
   "execution_count": null,
   "metadata": {},
   "outputs": [],
   "source": [
    "fil=dir+\"orientation\\\\cos_even_state1.dat\"\n",
    "if fee(fil):\n",
    "    xyplot(fil,'$t$ (fs)','$\\\\langle \\\\mathrm{cos}\\\\theta \\\\rangle$',dir)"
   ]
  },
  {
   "cell_type": "code",
   "execution_count": null,
   "metadata": {},
   "outputs": [],
   "source": [
    "fil=dir+\"orientation\\\\cos_odd_state1.dat\"\n",
    "if fee(fil):\n",
    "    xyplot(fil,'$t$ fs','$\\\\langle \\\\mathrm{cos}\\\\theta \\\\rangle$',dir)"
   ]
  },
  {
   "cell_type": "code",
   "execution_count": null,
   "metadata": {},
   "outputs": [],
   "source": [
    "fil=dir+\"orientation\\\\cos_tot_state1.dat\"\n",
    "if fee(fil):\n",
    "    xyplot(fil,'$t$ fs','$\\\\langle \\\\mathrm{cos}\\\\theta \\\\rangle$',dir)"
   ]
  },
  {
   "cell_type": "code",
   "execution_count": null,
   "metadata": {},
   "outputs": [],
   "source": [
    "fil=dir+\"alignment\\\\cos2_even_state1.dat\"\n",
    "if fee(fil):\n",
    "    xyplot(fil,'$t$ fs','$\\\\langle \\\\mathrm{cos^2}\\\\theta \\\\rangle$',dir)"
   ]
  },
  {
   "cell_type": "code",
   "execution_count": null,
   "metadata": {},
   "outputs": [],
   "source": [
    "fil=dir+\"alignment\\\\cos2_odd_state1.dat\"\n",
    "if fee(fil):\n",
    "    xyplot(fil,'$t$ fs','$\\\\langle \\\\mathrm{cos^2}\\\\theta \\\\rangle$',dir)"
   ]
  },
  {
   "cell_type": "code",
   "execution_count": null,
   "metadata": {},
   "outputs": [],
   "source": [
    "fil=dir+\"alignment\\\\cos2_tot_state1.dat\"\n",
    "if fee(fil):\n",
    "    xyplot(fil,'$t$ fs','$\\\\langle \\\\mathrm{cos^2}\\\\theta \\\\rangle$',dir)"
   ]
  },
  {
   "cell_type": "code",
   "execution_count": null,
   "metadata": {},
   "outputs": [],
   "source": [
    "xyzplot(dir+'population\\\\state1_s1_v00_j00_pm00angpop.dat',\n",
    "        'Time (fs)','$\\\\theta$',dir)"
   ]
  },
  {
   "cell_type": "code",
   "execution_count": null,
   "metadata": {},
   "outputs": [],
   "source": [
    "xyzplot(dir+'population\\\\state1_s1_v00_j00_pm00radpop.dat',\n",
    "        'Time (fs)','$R$',dir)"
   ]
  },
  {
   "cell_type": "code",
   "execution_count": null,
   "metadata": {},
   "outputs": [],
   "source": [
    "xyplot(dir+'population\\\\state1_s1_v00_j00_pm00pop.dat','Time (fs)','Population',dir)"
   ]
  },
  {
   "cell_type": "code",
   "execution_count": null,
   "metadata": {},
   "outputs": [],
   "source": [
    "def quickSort(arr, left=None, right=None):\n",
    "    left = 0 if not isinstance(left,(int, float)) else left\n",
    "    right = len(arr)-1 if not isinstance(right,(int, float)) else right\n",
    "    if left < right:\n",
    "        partitionIndex = partition(arr, left, right)\n",
    "        quickSort(arr, left, partitionIndex-1)\n",
    "        quickSort(arr, partitionIndex+1, right)\n",
    "    return arr\n",
    "\n",
    "def partition(arr, left, right):\n",
    "    pivot = left\n",
    "    index = pivot+1\n",
    "    i = index\n",
    "    while  i <= right:\n",
    "        if arr[i] < arr[pivot]:\n",
    "            swap(arr, i, index)\n",
    "            index+=1\n",
    "        i+=1\n",
    "    swap(arr,pivot,index-1)\n",
    "    return index-1\n",
    "\n",
    "def swap(arr, i, j):\n",
    "    arr[i], arr[j] = arr[j], arr[i]"
   ]
  },
  {
   "cell_type": "code",
   "execution_count": null,
   "metadata": {},
   "outputs": [],
   "source": [
    "fileList=os.listdir(dir+\"time_wavepacket_distribution\\\\\")\n",
    "plotList=list()\n",
    "n=len(fileList)\n",
    "for i in range(n):\n",
    "    s=dir+\"time_wavepacket_distribution\\\\\"+str(fileList[i])\n",
    "    if s[-4:]==\".dat\":\n",
    "        plotList.append(s)\n",
    "n=len(plotList)\n",
    "print(n)\n",
    "for i in range(n):\n",
    "    dat=np.loadtxt(plotList[i])    \n",
    "    a=dat[:,0]/180*3.1415926\n",
    "    p=dat[:,1]\n",
    "    plt.polar(a,p)\n",
    "    plt.xlabel('$\\\\theta$')\n",
    "    # plt.ylabel(\"Population\")\n",
    "    plt.ylim(min(p)-0.5,max(p)+0.5)\n",
    "    plt.savefig(dir+\"time_wavepacket_distribution\\\\\"+plotList[i][-11:-4]+figureType,dpi=600)\n",
    "    plt.show()\n",
    "    plt.close()"
   ]
  },
  {
   "cell_type": "code",
   "execution_count": null,
   "metadata": {},
   "outputs": [],
   "source": [
    "dat=np.loadtxt(dir+'Time_Wavepacket_Distribution\\\\state01_v00_J00_PM00_WAVEPACKET_POLAR_rot_INITIAL.dat')\n",
    "fig, ax = plt.subplots(subplot_kw={'projection': 'polar'})\n",
    "x=dat[:,0]/180*np.pi\n",
    "y=dat[:,1]\n",
    "plt.plot(x,y)\n",
    "plt.ylim(0,1)"
   ]
  },
  {
   "cell_type": "code",
   "execution_count": null,
   "metadata": {},
   "outputs": [],
   "source": [
    "fil=dir+'Time_Wavepacket_Distribution\\\\state01_v00_J00_PM00_WAVEPACKET_POLAR_rot_final.dat'\n",
    "if fee(fil):\n",
    "    dat=np.loadtxt(fil)\n",
    "    fig, ax = plt.subplots(subplot_kw={'projection': 'polar'})\n",
    "    x=dat[:,0]/180*np.pi\n",
    "    y=dat[:,1]\n",
    "    plt.plot(x,y)\n",
    "    plt.ylim(0,1)"
   ]
  },
  {
   "cell_type": "code",
   "execution_count": null,
   "metadata": {},
   "outputs": [],
   "source": [
    "# dat=np.loadtxt(dir+'Time_Wavepacket_Distribution\\\\state01_v00_J00_PM00_WAVEPACKET_POLAR_rot_3.550ps.dat')\n",
    "# fig, ax = plt.subplots(subplot_kw={'projection': 'polar'})\n",
    "# x=dat[:,0]/180*np.pi\n",
    "# y=dat[:,1]\n",
    "# plt.plot(x,y)\n",
    "# plt.ylim(0,1)"
   ]
  },
  {
   "cell_type": "code",
   "execution_count": null,
   "metadata": {},
   "outputs": [],
   "source": [
    "subdir=dir+\"r_initial_wavefunction\\\\\"\n",
    "fileList=os.listdir(subdir)\n",
    "plotList=list()\n",
    "n=len(fileList)\n",
    "for i in range(n):\n",
    "    s=subdir+str(fileList[i])\n",
    "    if s[-4:]==\".dat\":\n",
    "        plotList.append(s)\n",
    "n=len(plotList)\n",
    "print(n)\n",
    "for i in range(n):\n",
    "    dat=np.loadtxt(plotList[i])    \n",
    "    a=dat[:,0]\n",
    "    p=dat[:,1]\n",
    "    plt.plot(a,p)\n",
    "    dy=max(p)-min(p)\n",
    "    dx=max(a)-min(a)\n",
    "    # plt.xlabel('$t$ (fs)')\n",
    "    # plt.ylabel(\"$\\\\langle \\\\mathrm{cos^2}\\\\theta\\\\rangle$\")\n",
    "    plt.ylim(min(p)-0.1*dy,max(p)+0.1*dy)\n",
    "    \n",
    "    plt.savefig(subdir+str(i),dpi=600)\n",
    "    plt.show()\n",
    "    plt.close()"
   ]
  },
  {
   "cell_type": "code",
   "execution_count": null,
   "metadata": {},
   "outputs": [],
   "source": [
    "fil='D:\\\\dataofpro\\\\TimFreDis1.dat'\n",
    "if fee(fil):\n",
    "    dat=np.loadtxt(fil)\n",
    "    x=dat[:,0]\n",
    "    y=dat[:,1]\n",
    "    z=dat[:,2]\n",
    "    plt.tricontourf(x,y,z,levels,cmap='jet')"
   ]
  }
 ],
 "metadata": {
  "kernelspec": {
   "display_name": "Python 3",
   "language": "python",
   "name": "python3"
  },
  "language_info": {
   "codemirror_mode": {
    "name": "ipython",
    "version": 3
   },
   "file_extension": ".py",
   "mimetype": "text/x-python",
   "name": "python",
   "nbconvert_exporter": "python",
   "pygments_lexer": "ipython3",
   "version": "3.9.0 (tags/v3.9.0:9cf6752, Oct  5 2020, 15:34:40) [MSC v.1927 64 bit (AMD64)]"
  },
  "orig_nbformat": 4,
  "vscode": {
   "interpreter": {
    "hash": "5addf786bcd861d1ce5006f23111f8cbb206731e5b61b0a5632ba9e0252558a8"
   }
  }
 },
 "nbformat": 4,
 "nbformat_minor": 2
}
