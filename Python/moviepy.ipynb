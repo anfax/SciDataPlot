{
 "cells": [
  {
   "cell_type": "code",
   "execution_count": null,
   "metadata": {},
   "outputs": [],
   "source": [
    "from  moviepy.editor  import  *\n",
    "import os"
   ]
  },
  {
   "cell_type": "code",
   "execution_count": null,
   "metadata": {},
   "outputs": [],
   "source": [
    "dir=\"C:\\\\Users\\\\ablis\\\\Downloads\\欧美必听歌曲\\\\\"\n",
    "fileList =os.listdir(dir)\n",
    "print(fileList)\n",
    "dat_list=list()\n",
    "print(\"Checking image list\")\n"
   ]
  },
  {
   "cell_type": "code",
   "execution_count": null,
   "metadata": {},
   "outputs": [],
   "source": [
    "n=len(fileList)\n",
    "for i in range(n):\n",
    "    s=dir+str(fileList[i])\n",
    "    if s[-4:]==\".mp4\":\n",
    "        dat_list.append(s)\n",
    "print(dat_list)\n"
   ]
  },
  {
   "cell_type": "code",
   "execution_count": null,
   "metadata": {},
   "outputs": [],
   "source": [
    "for i in range(n):\n",
    "    video = VideoFileClip(dat_list[i])\n",
    "    audio = video.audio\n",
    "    audio.write_audiofile(dat_list[i][:-4]+'.mp3')"
   ]
  },
  {
   "cell_type": "code",
   "execution_count": null,
   "metadata": {},
   "outputs": [],
   "source": []
  }
 ],
 "metadata": {
  "kernelspec": {
   "display_name": "Python 3",
   "language": "python",
   "name": "python3"
  },
  "language_info": {
   "codemirror_mode": {
    "name": "ipython",
    "version": 3
   },
   "file_extension": ".py",
   "mimetype": "text/x-python",
   "name": "python",
   "nbconvert_exporter": "python",
   "pygments_lexer": "ipython3",
   "version": "3.10.9 (tags/v3.10.9:1dd9be6, Dec  6 2022, 20:01:21) [MSC v.1934 64 bit (AMD64)]"
  },
  "orig_nbformat": 4,
  "vscode": {
   "interpreter": {
    "hash": "8687b81b5d14307c58608bd19c9f92d9c321847991efa868faf2d3a3bcd23c46"
   }
  }
 },
 "nbformat": 4,
 "nbformat_minor": 2
}
